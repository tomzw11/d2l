{
 "cells": [
  {
   "cell_type": "markdown",
   "metadata": {},
   "source": [
    "# `d2l` API Document\n",
    "\n",
    ":label:`sec_d2l`"
   ]
  },
  {
   "cell_type": "markdown",
   "metadata": {},
   "source": [
    "```eval_rst\n",
    "\n",
    ".. automodule:: d2l\n",
    "   :members:\n",
    "   :imported-members:\n",
    "   :noindex:\n",
    "\n",
    "```\n"
   ]
  }
 ],
 "metadata": {
  "language_info": {
   "name": "python"
  }
 },
 "nbformat": 4,
 "nbformat_minor": 2
}
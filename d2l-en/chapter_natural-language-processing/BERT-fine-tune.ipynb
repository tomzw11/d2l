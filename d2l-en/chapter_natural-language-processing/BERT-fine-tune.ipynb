{
 "cells": [
  {
   "cell_type": "markdown",
   "metadata": {},
   "source": [
    "# BERT Fine-Tune\n",
    "\n",
    "...\n",
    "\n",
    "\n",
    "![single sentence](../img/bert_single_sentence.svg)\n",
    "\n",
    "...\n",
    "![sentence pair](../img/bert_sentence_pair.svg)\n",
    "\n",
    "...\n",
    "![question answering](../img/bert_question_answering.svg)\n",
    "\n",
    "...\n",
    "![named entity recognition](../img/bert_named_entity_recognition.svg)\n",
    "\n",
    "..."
   ]
  }
 ],
 "metadata": {
  "language_info": {
   "name": "python"
  }
 },
 "nbformat": 4,
 "nbformat_minor": 2
}
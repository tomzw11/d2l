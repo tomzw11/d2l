{
 "cells": [
  {
   "cell_type": "markdown",
   "metadata": {},
   "source": [
    "# Natural Language Processing\n",
    "\n",
    ":label:`chap_nlp`\n",
    "\n",
    "\n",
    "Natural language processing is concerned with interactions between computers and humans that use natural language. In practice, it is very common for us to use this technique to process and analyze large amounts of natural language data, like the language models from :numref:`chap_rnn`\n",
    "\n",
    "In this chapter, we will discuss how to use vectors to represent words and train the word vectors on a corpus. We will also use word vectors pre-trained on a larger corpus to find synonyms and analogies. Then, in the text classification task, we will use word vectors to analyze the emotion of a text and explain the important ideas of timing data classification based on recurrent neural networks and the convolutional neural networks."
   ]
  },
  {
   "cell_type": "markdown",
   "metadata": {},
   "source": [
    " - [word2vec](word2vec.ipynb)\n",
    " - [approx-training](approx-training.ipynb)\n",
    " - [word2vec-dataset](word2vec-dataset.ipynb)\n",
    " - [word2vec-gluon](word2vec-gluon.ipynb)\n",
    " - [subword-embedding](subword-embedding.ipynb)\n",
    " - [glove](glove.ipynb)\n",
    " - [similarity-analogy](similarity-analogy.ipynb)\n",
    " - [sentiment-analysis](sentiment-analysis.ipynb)\n",
    " - [sentiment-analysis-rnn](sentiment-analysis-rnn.ipynb)\n",
    " - [sentiment-analysis-cnn](sentiment-analysis-cnn.ipynb)\n",
    " - [natural-language-inference-and-dataset](natural-language-inference-and-dataset.ipynb)\n",
    " - [natural-language-inference-attention](natural-language-inference-attention.ipynb)\n"
   ]
  }
 ],
 "metadata": {
  "language_info": {
   "name": "python"
  }
 },
 "nbformat": 4,
 "nbformat_minor": 2
}